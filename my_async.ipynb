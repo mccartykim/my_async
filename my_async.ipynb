{
 "cells": [
  {
   "cell_type": "markdown",
   "metadata": {},
   "source": [
    "# An Asyncio of My Own\n",
    "\n",
    "Obviously, that's pure hubris. This won't be that fleshed out, but I plan on using simple generators and queues to write an event loop.\n",
    "\n",
    "I should model my idea of a coroutine first.  I'll want my generators-acting-like-coroutines-or-tasks to return something like a future. A future, as I understand it, is an object that holds data to do with a coroutine or task, where you can send a message to a task, get its results, and check on its status.\n",
    "\n",
    "My idea is to yeild a dictionary with a few fields. I could write a class, but I think I can deal with a dict for the scope of this project. Here's some pseduocode with an | around each option.\n",
    "\n",
    "`my_future = {\"status\": \"PENDING|IN-PROGRESS|FINISHED|FAILED\",\n",
    "    \"result\": None|Object,\n",
    "    \"kill\": True|False,\n",
    "    \"paused\": True|False\n",
    "    }`\n",
    "\n",
    "Kill marks it for the event loop to delete references to it. Paused will tell the event loop to ignore it. Not sure if that's enough. But let's try it!\n",
    "\n",
    "I will also write a few silly coroutines that are light on actual work, heavy on \"doing stuff SLOW.\""
   ]
  },
  {
   "cell_type": "code",
   "execution_count": 59,
   "metadata": {},
   "outputs": [],
   "source": [
    "import time\n",
    "import logging\n",
    "logger = logging.getLogger()\n",
    "logger.setLevel(logging.INFO)\n",
    "\n",
    "PENDING, IN_PROGRESS, FINISHED, FAILED = range(4)\n",
    "\n",
    "def wait(seconds):\n",
    "    \"\"\"Will complete after seconds, and return time overrun. Otherwise, returns an IN-PROGRESS future dict\"\"\"\n",
    "    start = time.time()\n",
    "    logging.debug(\"Start is %f\", start)\n",
    "    yield {\"status\": IN_PROGRESS, \"result\": None, \"kill\": False, \"paused\": False}\n",
    "    now = time.time()\n",
    "    while now - start < seconds:\n",
    "        logging.debug(\"Time elapsed %f\", now-start)\n",
    "        yield {\"status\": IN_PROGRESS, \"result\": None, \"kill\": False, \"paused\": False}\n",
    "        now = time.time()\n",
    "    logging.info(\"Finished waiting for %f, plus %f seconds\", seconds, now-start-seconds)\n",
    "    yield {\"status\": FINISHED, \"result\": now-start-seconds, \"kill\": False, \"paused\": True}"
   ]
  },
  {
   "cell_type": "markdown",
   "metadata": {},
   "source": [
    "So now we have a function that takes an arbitrary amount of time, and yields control while its waiting. I can imagine how network apis/IO calls that wait for the relevant API (perhaps the kernel) to finish would be implemented.\n",
    "\n",
    "Let's call it by hand and see if we can generalize this pattern with an event loop."
   ]
  },
  {
   "cell_type": "code",
   "execution_count": 60,
   "metadata": {},
   "outputs": [
    {
     "name": "stdout",
     "output_type": "stream",
     "text": [
      "{'status': 1, 'result': None, 'kill': False, 'paused': False}\n",
      "{'status': 1, 'result': None, 'kill': False, 'paused': False}\n"
     ]
    },
    {
     "name": "stderr",
     "output_type": "stream",
     "text": [
      "INFO:root:Finished waiting for 5.000000, plus 1.007902 seconds\n"
     ]
    },
    {
     "name": "stdout",
     "output_type": "stream",
     "text": [
      "{'status': 2, 'result': 1.007901668548584, 'kill': False, 'paused': True}\n"
     ]
    }
   ],
   "source": [
    "waiter = wait(5)\n",
    "fut = next(waiter)\n",
    "print(fut)\n",
    "time.sleep(2)\n",
    "fut = next(waiter)\n",
    "print(fut)\n",
    "time.sleep(4)\n",
    "fut = next(waiter)\n",
    "print(fut)"
   ]
  },
  {
   "cell_type": "markdown",
   "metadata": {},
   "source": [
    "My event loop will be a list that just iterates and runs generators until one of them has something to do. I'm not going to worry about efficient waiting or anything (which might rely on generators to share a bit more about their task). Just busy-wait checking things over and over until it finds something.\n",
    "\n",
    "Each entry on the list will be a future with a reference to the coroutine added. Like Asyncio, I'll call the futures wrapping a coroutine/generator \"tasks.\""
   ]
  },
  {
   "cell_type": "code",
   "execution_count": 75,
   "metadata": {},
   "outputs": [],
   "source": [
    "class Looper(object):\n",
    "    def __init__(self):\n",
    "        self.loop = []\n",
    "        \n",
    "    def add_task(self, gen):\n",
    "        task = {\"status\": PENDING, \"result\": None, \"kill\": False, \"paused\": False, \"coro\": gen}\n",
    "        self.loop.append(task)\n",
    "        \n",
    "    def update_task(self, task_index):\n",
    "        task = self.loop[task_index]\n",
    "        gen = task[\"coro\"]\n",
    "        if not task[\"paused\"]:\n",
    "            try:\n",
    "                t = next(gen)\n",
    "                t[\"coro\"] = gen\n",
    "                self.loop[task_index] = t\n",
    "            except StopIteration:\n",
    "                loop[task_index]={\"status\": FAILED, \"result\": None, \"kill\": False, \"paused\": True, \"coro\": gen}\n",
    "        \n",
    "        \n",
    "    def _get_actionable_tasks(self):\n",
    "        return [task for task in self.loop if (task[\"status\"] == PENDING or task[\"status\"] == IN_PROGRESS) \\\n",
    "            and not task[\"paused\"]]\n",
    "    \n",
    "    \n",
    "    def _cull_list(self):\n",
    "        kill_list = [task for task in self.loop if task[\"kill\"]]\n",
    "        for t in kill_list:\n",
    "            del t[\"coro\"]\n",
    "            del t\n",
    "        self.list = [task for task in self.loop if not task[\"kill\"]]\n",
    "        \n",
    "    def run_until_complete(self):\n",
    "        logging.debug(self.loop)\n",
    "        todo_list = self._get_actionable_tasks()\n",
    "        while todo_list:            \n",
    "            logging.debug(\"loop started\")\n",
    "            for task_index, task in enumerate(self.loop):\n",
    "                if (task[\"status\"] == PENDING or task[\"status\"] == IN_PROGRESS) and not task[\"paused\"]:\n",
    "                    self.update_task(task_index)\n",
    "                    if self.loop[task_index][\"status\"] == FINISHED:\n",
    "                        logging.debug(self.loop[task_index])\n",
    "            self._cull_list()\n",
    "            todo_list = self._get_actionable_tasks()\n",
    "        # implicitly todo_list is null or empty here\n",
    "        logging.info(\"Loop finished\")\n",
    "        return\n",
    "                \n",
    "        "
   ]
  },
  {
   "cell_type": "markdown",
   "metadata": {},
   "source": [
    "Okay, now let's load it up and see if it can handle some waiting."
   ]
  },
  {
   "cell_type": "code",
   "execution_count": 79,
   "metadata": {},
   "outputs": [
    {
     "name": "stderr",
     "output_type": "stream",
     "text": [
      "INFO:root:Finished waiting for 3.000000, plus 0.000160 seconds\n",
      "INFO:root:Finished waiting for 5.000000, plus 0.003700 seconds\n",
      "INFO:root:Finished waiting for 10.000000, plus 0.003966 seconds\n",
      "INFO:root:Loop finished\n"
     ]
    }
   ],
   "source": [
    "logger.setLevel(logging.INFO)\n",
    "looper = Looper()\n",
    "looper.add_task(wait(5))\n",
    "looper.add_task(wait(10))\n",
    "looper.add_task(wait(3))\n",
    "looper.run_until_complete()"
   ]
  },
  {
   "cell_type": "markdown",
   "metadata": {},
   "source": [
    "Well, that seems to work!  A few tasks, not in any specific order, multiplexed on one thread.  Concurrency through task switching achieved.\n",
    "\n",
    "But can we add to the loop on the fly?  We shouldn't add or remove items to self.loop midloop, as that's likely to cause index errors.  So we add a queue to get added to our loop list between rounds of updates.\n",
    "\n",
    "Sadly, my future objects (just dicts, really) don't update on their own, so I added a search function, as well."
   ]
  },
  {
   "cell_type": "code",
   "execution_count": 101,
   "metadata": {},
   "outputs": [],
   "source": [
    "class Looper(object):\n",
    "    def __init__(self):\n",
    "        self.loop = []\n",
    "        self.to_add = []\n",
    "        \n",
    "    def add_task(self, gen):\n",
    "        task = {\"status\": PENDING, \"result\": None, \"kill\": False, \"paused\": False, \"coro\": gen}\n",
    "        self.to_add.append(task)\n",
    "        \n",
    "    def update_task(self, task_index):\n",
    "        task = self.loop[task_index]\n",
    "        gen = task[\"coro\"]\n",
    "        if not task[\"paused\"]:\n",
    "            try:\n",
    "                t = next(gen)\n",
    "                t[\"coro\"] = gen\n",
    "                self.loop[task_index] = t\n",
    "            except StopIteration:\n",
    "                loop[task_index]={\"status\": FAILED, \"result\": None, \"kill\": False, \"paused\": True, \"coro\": gen}\n",
    "        \n",
    "        \n",
    "    def _get_actionable_tasks(self):\n",
    "        return [task for task in self.loop if (task[\"status\"] == PENDING or task[\"status\"] == IN_PROGRESS) \\\n",
    "            and not task[\"paused\"]]\n",
    "    \n",
    "    def get_task(self, coro):\n",
    "        \"\"\"Search for a task that holds coroutine\"\"\"\n",
    "        \"\"\"Return none if not found\"\"\"\n",
    "        l = [t for t in self.loop if t[\"coro\"] is coro]\n",
    "        if not l:\n",
    "            # also check pending list\n",
    "            l = [t for t in self.to_add if t[\"coro\"] is coro]\n",
    "        if l:\n",
    "            return l[0]\n",
    "        else:\n",
    "            return None\n",
    "        \n",
    "    def kill_task(self, coro):\n",
    "        \"\"\"Mark every task with coro as something to kill\"\"\"\n",
    "        logging.debug(\"Marking to kill %s\", coro)\n",
    "        l = [t for t in self.loop if t[\"coro\"] is coro]\n",
    "        logging.debug(\"Will mark %s\", l)\n",
    "        for e in l:\n",
    "            e[\"kill\"] = True\n",
    "    \n",
    "    def _cull_list(self):\n",
    "        kill_list = [task for task in self.loop if task[\"kill\"]]\n",
    "        logging.debug(kill_list)\n",
    "        for t in kill_list:\n",
    "            logging.debug(\"Killing task %s\", t)\n",
    "            del t[\"coro\"]\n",
    "            del t\n",
    "        self.list = [task for task in self.loop if not task[\"kill\"]]\n",
    "        \n",
    "    def run_until_complete(self):\n",
    "        logging.debug(self.loop)\n",
    "        self.loop.extend(self.to_add)\n",
    "        self.to_add = []\n",
    "        todo_list = self._get_actionable_tasks()\n",
    "        while todo_list:\n",
    "            logging.debug(\"loop started\")\n",
    "            for task_index, task in enumerate(self.loop):\n",
    "                if (task[\"status\"] == PENDING or task[\"status\"] == IN_PROGRESS) and not task[\"paused\"]:\n",
    "                    self.update_task(task_index)\n",
    "                    if self.loop[task_index][\"status\"] == FINISHED:\n",
    "                        logging.debug(self.loop[task_index])\n",
    "            # update list before next round\n",
    "            self._cull_list()\n",
    "            self.loop.extend(self.to_add)\n",
    "            self.to_add = []\n",
    "            todo_list = self._get_actionable_tasks()\n",
    "        # implicitly todo_list is null or empty here, so there are no actionable tasks\n",
    "        logging.info(\"Loop finished\")\n",
    "        return"
   ]
  },
  {
   "cell_type": "markdown",
   "metadata": {},
   "source": [
    "Now we can just pass a reference to \"looper\" in a task that wants to add more tasks. It's turtles all the way down!\n",
    "\n",
    "Let's trigger an action to call after wait."
   ]
  },
  {
   "cell_type": "code",
   "execution_count": 106,
   "metadata": {},
   "outputs": [],
   "source": [
    "def wait_wrapper(f, wait_seconds, loop):\n",
    "    w_coro = wait(wait_seconds)\n",
    "    loop.add_task(w_coro)\n",
    "    while True:\n",
    "        fut = loop.get_task(w_coro)\n",
    "        if fut and fut[\"status\"] == FINISHED:\n",
    "            result = f()\n",
    "            loop.kill_task(w_coro)\n",
    "            yield {\"status\": FINISHED, \"result\": result, \"kill\": False, \"paused\": True}\n",
    "        if not fut:\n",
    "            yield {\"status\": FAILED, \"result\": None, \"kill\": False, \"paused\": True}\n",
    "        else:\n",
    "            yield {\"status\": IN_PROGRESS, \"result\": None, \"kill\": False, \"paused\": False}"
   ]
  },
  {
   "cell_type": "code",
   "execution_count": 109,
   "metadata": {},
   "outputs": [
    {
     "name": "stderr",
     "output_type": "stream",
     "text": [
      "INFO:root:Finished waiting for 5.000000, plus 0.006356 seconds\n",
      "INFO:root:Loop finished\n"
     ]
    },
    {
     "name": "stdout",
     "output_type": "stream",
     "text": [
      "Hello, it was worth the wait\n"
     ]
    }
   ],
   "source": [
    "logger.setLevel(logging.INFO)\n",
    "hello = lambda: print(\"Hello, it was worth the wait\")\n",
    "looper = Looper()\n",
    "looper.add_task(wait_wrapper(hello, 5, looper))\n",
    "looper.run_until_complete()"
   ]
  },
  {
   "cell_type": "markdown",
   "metadata": {},
   "source": [
    "And there we have it!  A basic asynchronous, single threaded event loop.  It's interesting to see the basic concepts play out, although I'm sure the asyncio implementation is more robust in all kinds of ways.  For one, it thought through the futures concept better, and I could probably use the dictionaries if I was more careful about updating the same dict objects rather than just spawning new ones."
   ]
  }
 ],
 "metadata": {
  "kernelspec": {
   "display_name": "Python 3",
   "language": "python",
   "name": "python3"
  },
  "language_info": {
   "codemirror_mode": {
    "name": "ipython",
    "version": 3
   },
   "file_extension": ".py",
   "mimetype": "text/x-python",
   "name": "python",
   "nbconvert_exporter": "python",
   "pygments_lexer": "ipython3",
   "version": "3.6.3"
  }
 },
 "nbformat": 4,
 "nbformat_minor": 2
}
